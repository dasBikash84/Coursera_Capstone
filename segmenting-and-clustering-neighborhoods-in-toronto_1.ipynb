{
 "cells": [
  {
   "cell_type": "code",
   "execution_count": 71,
   "id": "daily-signal",
   "metadata": {},
   "outputs": [],
   "source": [
    "import requests # library to handle requests\n",
    "import pandas as pd # library for data analsysis\n",
    "import numpy as np\n",
    "from bs4 import BeautifulSoup\n",
    "import re"
   ]
  },
  {
   "cell_type": "code",
   "execution_count": 72,
   "id": "reserved-headset",
   "metadata": {},
   "outputs": [],
   "source": [
    "#Reading tables from website\n",
    "url = 'https://en.wikipedia.org/wiki/List_of_postal_codes_of_Canada:_M'\n",
    "dataframe_list = pd.read_html(url, flavor='bs4')"
   ]
  },
  {
   "cell_type": "code",
   "execution_count": 73,
   "id": "stainless-aviation",
   "metadata": {},
   "outputs": [],
   "source": [
    "#Data is on first table\n",
    "table = dataframe_list[0]"
   ]
  },
  {
   "cell_type": "code",
   "execution_count": 74,
   "id": "meaningful-destruction",
   "metadata": {},
   "outputs": [],
   "source": [
    "#Converting table to array\n",
    "arr = table.to_numpy()"
   ]
  },
  {
   "cell_type": "code",
   "execution_count": 75,
   "id": "other-check",
   "metadata": {},
   "outputs": [],
   "source": [
    "#Converting to 1D array\n",
    "arr = arr.reshape(arr.shape[0]*arr.shape[1],)"
   ]
  },
  {
   "cell_type": "code",
   "execution_count": 76,
   "id": "central-grenada",
   "metadata": {},
   "outputs": [],
   "source": [
    "#Method to parse 'PostalCode', 'Borough', 'Neighborhood' from table cell entry\n",
    "def process_entry(text):\n",
    "    match = re.findall(\"(.{3})(.+)\\((.+)\\)\",txt)\n",
    "    if(len(match)==0):\n",
    "        match = re.findall(\"(.{3})(.+)\",txt)\n",
    "    if(len(match)!=1):\n",
    "        return None\n",
    "    match = list(match[0])\n",
    "    try:\n",
    "        match.index('Not assigned')\n",
    "        return None\n",
    "    except ValueError:\n",
    "        if(len(match) == 3):\n",
    "            return pd.Series(match)\n",
    "        elif(len(match) == 2):\n",
    "            match.append(match[1])\n",
    "            return pd.Series(match)\n",
    "        else:\n",
    "            return None"
   ]
  },
  {
   "cell_type": "code",
   "execution_count": 77,
   "id": "exact-circuit",
   "metadata": {},
   "outputs": [],
   "source": [
    "#Creating data frame\n",
    "\n",
    "df = pd.DataFrame([])\n",
    "for txt in arr:\n",
    "    data = process_entry(txt)\n",
    "    if(type(data) != None):\n",
    "        df = df.append(data,ignore_index=True)\n",
    "\n",
    "df.columns=['PostalCode', 'Borough', 'Neighborhood']\n",
    "    "
   ]
  },
  {
   "cell_type": "code",
   "execution_count": 78,
   "id": "relevant-roommate",
   "metadata": {
    "scrolled": false
   },
   "outputs": [
    {
     "data": {
      "text/html": [
       "<div>\n",
       "<style scoped>\n",
       "    .dataframe tbody tr th:only-of-type {\n",
       "        vertical-align: middle;\n",
       "    }\n",
       "\n",
       "    .dataframe tbody tr th {\n",
       "        vertical-align: top;\n",
       "    }\n",
       "\n",
       "    .dataframe thead th {\n",
       "        text-align: right;\n",
       "    }\n",
       "</style>\n",
       "<table border=\"1\" class=\"dataframe\">\n",
       "  <thead>\n",
       "    <tr style=\"text-align: right;\">\n",
       "      <th></th>\n",
       "      <th>PostalCode</th>\n",
       "      <th>Borough</th>\n",
       "      <th>Neighborhood</th>\n",
       "    </tr>\n",
       "  </thead>\n",
       "  <tbody>\n",
       "    <tr>\n",
       "      <th>0</th>\n",
       "      <td>M3A</td>\n",
       "      <td>North York</td>\n",
       "      <td>Parkwoods</td>\n",
       "    </tr>\n",
       "    <tr>\n",
       "      <th>1</th>\n",
       "      <td>M4A</td>\n",
       "      <td>North York</td>\n",
       "      <td>Victoria Village</td>\n",
       "    </tr>\n",
       "    <tr>\n",
       "      <th>2</th>\n",
       "      <td>M5A</td>\n",
       "      <td>Downtown Toronto</td>\n",
       "      <td>Regent Park / Harbourfront</td>\n",
       "    </tr>\n",
       "    <tr>\n",
       "      <th>3</th>\n",
       "      <td>M6A</td>\n",
       "      <td>North York</td>\n",
       "      <td>Lawrence Manor / Lawrence Heights</td>\n",
       "    </tr>\n",
       "    <tr>\n",
       "      <th>4</th>\n",
       "      <td>M7A</td>\n",
       "      <td>Queen's Park</td>\n",
       "      <td>Ontario Provincial Government</td>\n",
       "    </tr>\n",
       "  </tbody>\n",
       "</table>\n",
       "</div>"
      ],
      "text/plain": [
       "  PostalCode           Borough                       Neighborhood\n",
       "0        M3A        North York                          Parkwoods\n",
       "1        M4A        North York                   Victoria Village\n",
       "2        M5A  Downtown Toronto         Regent Park / Harbourfront\n",
       "3        M6A        North York  Lawrence Manor / Lawrence Heights\n",
       "4        M7A      Queen's Park      Ontario Provincial Government"
      ]
     },
     "execution_count": 78,
     "metadata": {},
     "output_type": "execute_result"
    }
   ],
   "source": [
    "df.head()"
   ]
  },
  {
   "cell_type": "code",
   "execution_count": 79,
   "id": "hydraulic-behalf",
   "metadata": {},
   "outputs": [
    {
     "data": {
      "text/plain": [
       "(103, 3)"
      ]
     },
     "execution_count": 79,
     "metadata": {},
     "output_type": "execute_result"
    }
   ],
   "source": [
    "df.shape"
   ]
  },
  {
   "cell_type": "code",
   "execution_count": null,
   "id": "known-handle",
   "metadata": {},
   "outputs": [],
   "source": []
  }
 ],
 "metadata": {
  "kernelspec": {
   "display_name": "Python 3",
   "language": "python",
   "name": "python3"
  },
  "language_info": {
   "codemirror_mode": {
    "name": "ipython",
    "version": 3
   },
   "file_extension": ".py",
   "mimetype": "text/x-python",
   "name": "python",
   "nbconvert_exporter": "python",
   "pygments_lexer": "ipython3",
   "version": "3.8.8"
  }
 },
 "nbformat": 4,
 "nbformat_minor": 5
}
