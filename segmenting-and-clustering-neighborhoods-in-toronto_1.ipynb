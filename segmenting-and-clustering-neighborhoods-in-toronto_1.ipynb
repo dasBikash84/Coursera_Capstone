{
 "cells": [
  {
   "cell_type": "code",
   "execution_count": 174,
   "id": "daily-signal",
   "metadata": {},
   "outputs": [],
   "source": [
    "import requests # library to handle requests\n",
    "import pandas as pd # library for data analsysis\n",
    "import numpy as np\n",
    "from bs4 import BeautifulSoup\n",
    "import re"
   ]
  },
  {
   "cell_type": "code",
   "execution_count": 175,
   "id": "reserved-headset",
   "metadata": {},
   "outputs": [],
   "source": [
    "#Reading tables from website\n",
    "url = 'https://en.wikipedia.org/wiki/List_of_postal_codes_of_Canada:_M'\n",
    "dataframe_list = pd.read_html(url, flavor='bs4')"
   ]
  },
  {
   "cell_type": "code",
   "execution_count": 176,
   "id": "stainless-aviation",
   "metadata": {},
   "outputs": [],
   "source": [
    "#Data is on first table\n",
    "table = dataframe_list[0]"
   ]
  },
  {
   "cell_type": "code",
   "execution_count": 223,
   "id": "meaningful-destruction",
   "metadata": {},
   "outputs": [],
   "source": [
    "#Converting table to array\n",
    "data = table.to_numpy()"
   ]
  },
  {
   "cell_type": "code",
   "execution_count": 224,
   "id": "other-check",
   "metadata": {},
   "outputs": [],
   "source": [
    "#Converting to 1D array\n",
    "data = data.reshape(data.shape[0]*data.shape[1],)"
   ]
  },
  {
   "cell_type": "code",
   "execution_count": 243,
   "id": "binding-closure",
   "metadata": {},
   "outputs": [],
   "source": [
    "data_df = pd.DataFrame(data)"
   ]
  },
  {
   "cell_type": "code",
   "execution_count": 244,
   "id": "forward-harvest",
   "metadata": {},
   "outputs": [],
   "source": [
    "# all info in 'all' column\n",
    "data_df.columns = ['all']"
   ]
  },
  {
   "cell_type": "code",
   "execution_count": 245,
   "id": "possible-registration",
   "metadata": {},
   "outputs": [],
   "source": [
    "# \"PostCode\" extracted\n",
    "data_df['PostalCode'] = data_df['all'].str.extract('(.{3})',expand=False)"
   ]
  },
  {
   "cell_type": "code",
   "execution_count": 246,
   "id": "accomplished-speech",
   "metadata": {},
   "outputs": [
    {
     "data": {
      "text/html": [
       "<div>\n",
       "<style scoped>\n",
       "    .dataframe tbody tr th:only-of-type {\n",
       "        vertical-align: middle;\n",
       "    }\n",
       "\n",
       "    .dataframe tbody tr th {\n",
       "        vertical-align: top;\n",
       "    }\n",
       "\n",
       "    .dataframe thead th {\n",
       "        text-align: right;\n",
       "    }\n",
       "</style>\n",
       "<table border=\"1\" class=\"dataframe\">\n",
       "  <thead>\n",
       "    <tr style=\"text-align: right;\">\n",
       "      <th></th>\n",
       "      <th>all</th>\n",
       "      <th>PostalCode</th>\n",
       "    </tr>\n",
       "  </thead>\n",
       "  <tbody>\n",
       "    <tr>\n",
       "      <th>0</th>\n",
       "      <td>M1ANot assigned</td>\n",
       "      <td>M1A</td>\n",
       "    </tr>\n",
       "    <tr>\n",
       "      <th>1</th>\n",
       "      <td>M2ANot assigned</td>\n",
       "      <td>M2A</td>\n",
       "    </tr>\n",
       "    <tr>\n",
       "      <th>2</th>\n",
       "      <td>M3ANorth York(Parkwoods)</td>\n",
       "      <td>M3A</td>\n",
       "    </tr>\n",
       "    <tr>\n",
       "      <th>3</th>\n",
       "      <td>M4ANorth York(Victoria Village)</td>\n",
       "      <td>M4A</td>\n",
       "    </tr>\n",
       "    <tr>\n",
       "      <th>4</th>\n",
       "      <td>M5ADowntown Toronto(Regent Park / Harbourfront)</td>\n",
       "      <td>M5A</td>\n",
       "    </tr>\n",
       "  </tbody>\n",
       "</table>\n",
       "</div>"
      ],
      "text/plain": [
       "                                               all PostalCode\n",
       "0                                  M1ANot assigned        M1A\n",
       "1                                  M2ANot assigned        M2A\n",
       "2                         M3ANorth York(Parkwoods)        M3A\n",
       "3                  M4ANorth York(Victoria Village)        M4A\n",
       "4  M5ADowntown Toronto(Regent Park / Harbourfront)        M5A"
      ]
     },
     "execution_count": 246,
     "metadata": {},
     "output_type": "execute_result"
    }
   ],
   "source": [
    "data_df.head()"
   ]
  },
  {
   "cell_type": "code",
   "execution_count": 247,
   "id": "million-brother",
   "metadata": {
    "scrolled": false
   },
   "outputs": [
    {
     "name": "stderr",
     "output_type": "stream",
     "text": [
      "<ipython-input-247-b6930228a476>:2: FutureWarning: The default value of regex will change from True to False in a future version.\n",
      "  data_df['rest']=data_df['all'].str.replace(r'^(.{3})','')\n"
     ]
    }
   ],
   "source": [
    "#all info except 'PostalCode' in in temp 'rest' column\n",
    "data_df['rest']=data_df['all'].str.replace(r'^(.{3})','')"
   ]
  },
  {
   "cell_type": "code",
   "execution_count": 248,
   "id": "binary-emission",
   "metadata": {},
   "outputs": [],
   "source": [
    "data_df.drop(columns=['all'],inplace=True)"
   ]
  },
  {
   "cell_type": "code",
   "execution_count": 249,
   "id": "photographic-aquatic",
   "metadata": {},
   "outputs": [
    {
     "data": {
      "text/html": [
       "<div>\n",
       "<style scoped>\n",
       "    .dataframe tbody tr th:only-of-type {\n",
       "        vertical-align: middle;\n",
       "    }\n",
       "\n",
       "    .dataframe tbody tr th {\n",
       "        vertical-align: top;\n",
       "    }\n",
       "\n",
       "    .dataframe thead th {\n",
       "        text-align: right;\n",
       "    }\n",
       "</style>\n",
       "<table border=\"1\" class=\"dataframe\">\n",
       "  <thead>\n",
       "    <tr style=\"text-align: right;\">\n",
       "      <th></th>\n",
       "      <th>PostalCode</th>\n",
       "      <th>rest</th>\n",
       "    </tr>\n",
       "  </thead>\n",
       "  <tbody>\n",
       "    <tr>\n",
       "      <th>0</th>\n",
       "      <td>M1A</td>\n",
       "      <td>Not assigned</td>\n",
       "    </tr>\n",
       "    <tr>\n",
       "      <th>1</th>\n",
       "      <td>M2A</td>\n",
       "      <td>Not assigned</td>\n",
       "    </tr>\n",
       "    <tr>\n",
       "      <th>2</th>\n",
       "      <td>M3A</td>\n",
       "      <td>North York(Parkwoods)</td>\n",
       "    </tr>\n",
       "    <tr>\n",
       "      <th>3</th>\n",
       "      <td>M4A</td>\n",
       "      <td>North York(Victoria Village)</td>\n",
       "    </tr>\n",
       "    <tr>\n",
       "      <th>4</th>\n",
       "      <td>M5A</td>\n",
       "      <td>Downtown Toronto(Regent Park / Harbourfront)</td>\n",
       "    </tr>\n",
       "  </tbody>\n",
       "</table>\n",
       "</div>"
      ],
      "text/plain": [
       "  PostalCode                                          rest\n",
       "0        M1A                                  Not assigned\n",
       "1        M2A                                  Not assigned\n",
       "2        M3A                         North York(Parkwoods)\n",
       "3        M4A                  North York(Victoria Village)\n",
       "4        M5A  Downtown Toronto(Regent Park / Harbourfront)"
      ]
     },
     "execution_count": 249,
     "metadata": {},
     "output_type": "execute_result"
    }
   ],
   "source": [
    "data_df.head()"
   ]
  },
  {
   "cell_type": "code",
   "execution_count": 250,
   "id": "renewable-experiment",
   "metadata": {},
   "outputs": [],
   "source": [
    "# records with no 'Borough' removed\n",
    "data_df = data_df[data_df['rest'] != 'Not assigned']"
   ]
  },
  {
   "cell_type": "code",
   "execution_count": 251,
   "id": "measured-pension",
   "metadata": {},
   "outputs": [
    {
     "data": {
      "text/html": [
       "<div>\n",
       "<style scoped>\n",
       "    .dataframe tbody tr th:only-of-type {\n",
       "        vertical-align: middle;\n",
       "    }\n",
       "\n",
       "    .dataframe tbody tr th {\n",
       "        vertical-align: top;\n",
       "    }\n",
       "\n",
       "    .dataframe thead th {\n",
       "        text-align: right;\n",
       "    }\n",
       "</style>\n",
       "<table border=\"1\" class=\"dataframe\">\n",
       "  <thead>\n",
       "    <tr style=\"text-align: right;\">\n",
       "      <th></th>\n",
       "      <th>PostalCode</th>\n",
       "      <th>rest</th>\n",
       "    </tr>\n",
       "  </thead>\n",
       "  <tbody>\n",
       "    <tr>\n",
       "      <th>2</th>\n",
       "      <td>M3A</td>\n",
       "      <td>North York(Parkwoods)</td>\n",
       "    </tr>\n",
       "    <tr>\n",
       "      <th>3</th>\n",
       "      <td>M4A</td>\n",
       "      <td>North York(Victoria Village)</td>\n",
       "    </tr>\n",
       "    <tr>\n",
       "      <th>4</th>\n",
       "      <td>M5A</td>\n",
       "      <td>Downtown Toronto(Regent Park / Harbourfront)</td>\n",
       "    </tr>\n",
       "    <tr>\n",
       "      <th>5</th>\n",
       "      <td>M6A</td>\n",
       "      <td>North York(Lawrence Manor / Lawrence Heights)</td>\n",
       "    </tr>\n",
       "    <tr>\n",
       "      <th>6</th>\n",
       "      <td>M7A</td>\n",
       "      <td>Queen's Park(Ontario Provincial Government)</td>\n",
       "    </tr>\n",
       "  </tbody>\n",
       "</table>\n",
       "</div>"
      ],
      "text/plain": [
       "  PostalCode                                           rest\n",
       "2        M3A                          North York(Parkwoods)\n",
       "3        M4A                   North York(Victoria Village)\n",
       "4        M5A   Downtown Toronto(Regent Park / Harbourfront)\n",
       "5        M6A  North York(Lawrence Manor / Lawrence Heights)\n",
       "6        M7A    Queen's Park(Ontario Provincial Government)"
      ]
     },
     "execution_count": 251,
     "metadata": {},
     "output_type": "execute_result"
    }
   ],
   "source": [
    "data_df.head()"
   ]
  },
  {
   "cell_type": "code",
   "execution_count": 252,
   "id": "forward-accountability",
   "metadata": {
    "scrolled": true
   },
   "outputs": [],
   "source": [
    "# \"Borough\" extracted\n",
    "data_df['Borough'] = data_df['rest'].str.extract('(.+?)\\(.+',expand=False)"
   ]
  },
  {
   "cell_type": "code",
   "execution_count": 253,
   "id": "atomic-encyclopedia",
   "metadata": {},
   "outputs": [
    {
     "data": {
      "text/html": [
       "<div>\n",
       "<style scoped>\n",
       "    .dataframe tbody tr th:only-of-type {\n",
       "        vertical-align: middle;\n",
       "    }\n",
       "\n",
       "    .dataframe tbody tr th {\n",
       "        vertical-align: top;\n",
       "    }\n",
       "\n",
       "    .dataframe thead th {\n",
       "        text-align: right;\n",
       "    }\n",
       "</style>\n",
       "<table border=\"1\" class=\"dataframe\">\n",
       "  <thead>\n",
       "    <tr style=\"text-align: right;\">\n",
       "      <th></th>\n",
       "      <th>PostalCode</th>\n",
       "      <th>rest</th>\n",
       "      <th>Borough</th>\n",
       "    </tr>\n",
       "  </thead>\n",
       "  <tbody>\n",
       "    <tr>\n",
       "      <th>2</th>\n",
       "      <td>M3A</td>\n",
       "      <td>North York(Parkwoods)</td>\n",
       "      <td>North York</td>\n",
       "    </tr>\n",
       "    <tr>\n",
       "      <th>3</th>\n",
       "      <td>M4A</td>\n",
       "      <td>North York(Victoria Village)</td>\n",
       "      <td>North York</td>\n",
       "    </tr>\n",
       "    <tr>\n",
       "      <th>4</th>\n",
       "      <td>M5A</td>\n",
       "      <td>Downtown Toronto(Regent Park / Harbourfront)</td>\n",
       "      <td>Downtown Toronto</td>\n",
       "    </tr>\n",
       "    <tr>\n",
       "      <th>5</th>\n",
       "      <td>M6A</td>\n",
       "      <td>North York(Lawrence Manor / Lawrence Heights)</td>\n",
       "      <td>North York</td>\n",
       "    </tr>\n",
       "    <tr>\n",
       "      <th>6</th>\n",
       "      <td>M7A</td>\n",
       "      <td>Queen's Park(Ontario Provincial Government)</td>\n",
       "      <td>Queen's Park</td>\n",
       "    </tr>\n",
       "  </tbody>\n",
       "</table>\n",
       "</div>"
      ],
      "text/plain": [
       "  PostalCode                                           rest           Borough\n",
       "2        M3A                          North York(Parkwoods)        North York\n",
       "3        M4A                   North York(Victoria Village)        North York\n",
       "4        M5A   Downtown Toronto(Regent Park / Harbourfront)  Downtown Toronto\n",
       "5        M6A  North York(Lawrence Manor / Lawrence Heights)        North York\n",
       "6        M7A    Queen's Park(Ontario Provincial Government)      Queen's Park"
      ]
     },
     "execution_count": 253,
     "metadata": {},
     "output_type": "execute_result"
    }
   ],
   "source": [
    "data_df.head()"
   ]
  },
  {
   "cell_type": "code",
   "execution_count": 254,
   "id": "forty-wildlife",
   "metadata": {
    "scrolled": true
   },
   "outputs": [
    {
     "name": "stderr",
     "output_type": "stream",
     "text": [
      "<ipython-input-254-2508a9661765>:2: FutureWarning: The default value of regex will change from True to False in a future version.\n",
      "  data_df['rest'] = data_df['rest'].str.replace('^[^(]+','')\n"
     ]
    }
   ],
   "source": [
    "# 'Borough' data removed from 'rest'\n",
    "data_df['rest'] = data_df['rest'].str.replace('^[^(]+','')"
   ]
  },
  {
   "cell_type": "code",
   "execution_count": 255,
   "id": "ordinary-finger",
   "metadata": {},
   "outputs": [],
   "source": [
    "# \"Neighborhood\" extracted\n",
    "data_df['Neighborhood'] = data_df['rest'].str.extract('\\((.+)\\).{0,}',expand=False)"
   ]
  },
  {
   "cell_type": "code",
   "execution_count": 256,
   "id": "afraid-change",
   "metadata": {},
   "outputs": [
    {
     "data": {
      "text/html": [
       "<div>\n",
       "<style scoped>\n",
       "    .dataframe tbody tr th:only-of-type {\n",
       "        vertical-align: middle;\n",
       "    }\n",
       "\n",
       "    .dataframe tbody tr th {\n",
       "        vertical-align: top;\n",
       "    }\n",
       "\n",
       "    .dataframe thead th {\n",
       "        text-align: right;\n",
       "    }\n",
       "</style>\n",
       "<table border=\"1\" class=\"dataframe\">\n",
       "  <thead>\n",
       "    <tr style=\"text-align: right;\">\n",
       "      <th></th>\n",
       "      <th>PostalCode</th>\n",
       "      <th>rest</th>\n",
       "      <th>Borough</th>\n",
       "      <th>Neighborhood</th>\n",
       "    </tr>\n",
       "  </thead>\n",
       "  <tbody>\n",
       "    <tr>\n",
       "      <th>2</th>\n",
       "      <td>M3A</td>\n",
       "      <td>(Parkwoods)</td>\n",
       "      <td>North York</td>\n",
       "      <td>Parkwoods</td>\n",
       "    </tr>\n",
       "    <tr>\n",
       "      <th>3</th>\n",
       "      <td>M4A</td>\n",
       "      <td>(Victoria Village)</td>\n",
       "      <td>North York</td>\n",
       "      <td>Victoria Village</td>\n",
       "    </tr>\n",
       "    <tr>\n",
       "      <th>4</th>\n",
       "      <td>M5A</td>\n",
       "      <td>(Regent Park / Harbourfront)</td>\n",
       "      <td>Downtown Toronto</td>\n",
       "      <td>Regent Park / Harbourfront</td>\n",
       "    </tr>\n",
       "    <tr>\n",
       "      <th>5</th>\n",
       "      <td>M6A</td>\n",
       "      <td>(Lawrence Manor / Lawrence Heights)</td>\n",
       "      <td>North York</td>\n",
       "      <td>Lawrence Manor / Lawrence Heights</td>\n",
       "    </tr>\n",
       "    <tr>\n",
       "      <th>6</th>\n",
       "      <td>M7A</td>\n",
       "      <td>(Ontario Provincial Government)</td>\n",
       "      <td>Queen's Park</td>\n",
       "      <td>Ontario Provincial Government</td>\n",
       "    </tr>\n",
       "  </tbody>\n",
       "</table>\n",
       "</div>"
      ],
      "text/plain": [
       "  PostalCode                                 rest           Borough  \\\n",
       "2        M3A                          (Parkwoods)        North York   \n",
       "3        M4A                   (Victoria Village)        North York   \n",
       "4        M5A         (Regent Park / Harbourfront)  Downtown Toronto   \n",
       "5        M6A  (Lawrence Manor / Lawrence Heights)        North York   \n",
       "6        M7A      (Ontario Provincial Government)      Queen's Park   \n",
       "\n",
       "                        Neighborhood  \n",
       "2                          Parkwoods  \n",
       "3                   Victoria Village  \n",
       "4         Regent Park / Harbourfront  \n",
       "5  Lawrence Manor / Lawrence Heights  \n",
       "6      Ontario Provincial Government  "
      ]
     },
     "execution_count": 256,
     "metadata": {},
     "output_type": "execute_result"
    }
   ],
   "source": [
    "data_df.head()"
   ]
  },
  {
   "cell_type": "code",
   "execution_count": 257,
   "id": "still-communication",
   "metadata": {},
   "outputs": [],
   "source": [
    "#'rest' column dropped\n",
    "data_df.drop(columns=['rest'],inplace=True)"
   ]
  },
  {
   "cell_type": "code",
   "execution_count": 258,
   "id": "precise-edmonton",
   "metadata": {},
   "outputs": [],
   "source": [
    "# index reset\n",
    "data_df.reset_index(drop=True,inplace=True)"
   ]
  },
  {
   "cell_type": "code",
   "execution_count": 259,
   "id": "opened-entry",
   "metadata": {},
   "outputs": [
    {
     "data": {
      "text/html": [
       "<div>\n",
       "<style scoped>\n",
       "    .dataframe tbody tr th:only-of-type {\n",
       "        vertical-align: middle;\n",
       "    }\n",
       "\n",
       "    .dataframe tbody tr th {\n",
       "        vertical-align: top;\n",
       "    }\n",
       "\n",
       "    .dataframe thead th {\n",
       "        text-align: right;\n",
       "    }\n",
       "</style>\n",
       "<table border=\"1\" class=\"dataframe\">\n",
       "  <thead>\n",
       "    <tr style=\"text-align: right;\">\n",
       "      <th></th>\n",
       "      <th>PostalCode</th>\n",
       "      <th>Borough</th>\n",
       "      <th>Neighborhood</th>\n",
       "    </tr>\n",
       "  </thead>\n",
       "  <tbody>\n",
       "    <tr>\n",
       "      <th>0</th>\n",
       "      <td>M3A</td>\n",
       "      <td>North York</td>\n",
       "      <td>Parkwoods</td>\n",
       "    </tr>\n",
       "    <tr>\n",
       "      <th>1</th>\n",
       "      <td>M4A</td>\n",
       "      <td>North York</td>\n",
       "      <td>Victoria Village</td>\n",
       "    </tr>\n",
       "    <tr>\n",
       "      <th>2</th>\n",
       "      <td>M5A</td>\n",
       "      <td>Downtown Toronto</td>\n",
       "      <td>Regent Park / Harbourfront</td>\n",
       "    </tr>\n",
       "    <tr>\n",
       "      <th>3</th>\n",
       "      <td>M6A</td>\n",
       "      <td>North York</td>\n",
       "      <td>Lawrence Manor / Lawrence Heights</td>\n",
       "    </tr>\n",
       "    <tr>\n",
       "      <th>4</th>\n",
       "      <td>M7A</td>\n",
       "      <td>Queen's Park</td>\n",
       "      <td>Ontario Provincial Government</td>\n",
       "    </tr>\n",
       "  </tbody>\n",
       "</table>\n",
       "</div>"
      ],
      "text/plain": [
       "  PostalCode           Borough                       Neighborhood\n",
       "0        M3A        North York                          Parkwoods\n",
       "1        M4A        North York                   Victoria Village\n",
       "2        M5A  Downtown Toronto         Regent Park / Harbourfront\n",
       "3        M6A        North York  Lawrence Manor / Lawrence Heights\n",
       "4        M7A      Queen's Park      Ontario Provincial Government"
      ]
     },
     "execution_count": 259,
     "metadata": {},
     "output_type": "execute_result"
    }
   ],
   "source": [
    "data_df.head()"
   ]
  },
  {
   "cell_type": "code",
   "execution_count": 260,
   "id": "annoying-preserve",
   "metadata": {},
   "outputs": [
    {
     "data": {
      "text/plain": [
       "North York                                                      24\n",
       "Scarborough                                                     17\n",
       "Downtown Toronto                                                17\n",
       "Etobicoke                                                       11\n",
       "Central Toronto                                                  9\n",
       "West Toronto                                                     6\n",
       "York                                                             5\n",
       "East Toronto                                                     4\n",
       "East York                                                        4\n",
       "MississaugaCanada Post Gateway Processing Centre                 1\n",
       "East TorontoBusiness reply mail Processing Centre969 Eastern     1\n",
       "Queen's Park                                                     1\n",
       "East YorkEast Toronto                                            1\n",
       "Downtown TorontoStn A PO Boxes25 The Esplanade                   1\n",
       "EtobicokeNorthwest                                               1\n",
       "Name: Borough, dtype: int64"
      ]
     },
     "execution_count": 260,
     "metadata": {},
     "output_type": "execute_result"
    }
   ],
   "source": [
    "data_df['Borough'].value_counts()"
   ]
  },
  {
   "cell_type": "code",
   "execution_count": 261,
   "id": "double-shooting",
   "metadata": {},
   "outputs": [
    {
     "data": {
      "text/plain": [
       "(103, 3)"
      ]
     },
     "execution_count": 261,
     "metadata": {},
     "output_type": "execute_result"
    }
   ],
   "source": [
    "data_df.shape"
   ]
  },
  {
   "cell_type": "code",
   "execution_count": null,
   "id": "alpha-harvest",
   "metadata": {},
   "outputs": [],
   "source": []
  }
 ],
 "metadata": {
  "kernelspec": {
   "display_name": "Python 3",
   "language": "python",
   "name": "python3"
  },
  "language_info": {
   "codemirror_mode": {
    "name": "ipython",
    "version": 3
   },
   "file_extension": ".py",
   "mimetype": "text/x-python",
   "name": "python",
   "nbconvert_exporter": "python",
   "pygments_lexer": "ipython3",
   "version": "3.8.8"
  }
 },
 "nbformat": 4,
 "nbformat_minor": 5
}
